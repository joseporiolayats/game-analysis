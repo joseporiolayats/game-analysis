{
 "cells": [
  {
   "cell_type": "code",
   "execution_count": 2,
   "metadata": {
    "collapsed": true,
    "pycharm": {
     "name": "#%%\n"
    }
   },
   "outputs": [],
   "source": [
    "import numpy as np\n",
    "from dataclasses import dataclass\n",
    "# import pandas as pd\n",
    "# import matplotlib.pyplot as plt"
   ]
  },
  {
   "cell_type": "markdown",
   "source": [
    "# Dataset creation workbook\n",
    "In order to work with game data, which is unavailable on the internet, I'm going to create a new dataset, from scratch.\n",
    "### Specifications\n",
    "The dataset should include data on:\n",
    "- Users (m/f, age, device, country, wifi/4g)\n",
    "- Sessions\n",
    "- Achievements\n",
    "- Money spent\n",
    "- Ads shown"
   ],
   "metadata": {
    "collapsed": false,
    "pycharm": {
     "name": "#%% md\n"
    }
   }
  },
  {
   "cell_type": "code",
   "execution_count": null,
   "outputs": [],
   "source": [
    "# Class for holding the general dataset generation configuration\n",
    "@dataclass\n",
    "class Config:\n",
    "    # Attributes Declaration\n",
    "    # using Type Hints\n",
    "    max_users: int\n",
    "    time_span: int\n",
    "\n"
   ],
   "metadata": {
    "collapsed": false,
    "pycharm": {
     "name": "#%%\n"
    }
   }
  },
  {
   "cell_type": "code",
   "execution_count": 6,
   "outputs": [
    {
     "data": {
      "text/plain": "array([0.24742606, 0.09299006, 0.61176337, 0.06066207])"
     },
     "execution_count": 6,
     "metadata": {},
     "output_type": "execute_result"
    }
   ],
   "source": [
    "# Instantiate a Random Number Generator for all NumPy calculations, with guidelines from https://towardsdatascience.com/stop-using-numpy-random-seed-581a9972805f\n",
    "seed = 2022\n",
    "rng = np.random.default_rng(seed)"
   ],
   "metadata": {
    "collapsed": false,
    "pycharm": {
     "name": "#%%\n"
    }
   }
  },
  {
   "cell_type": "code",
   "execution_count": null,
   "outputs": [],
   "source": [],
   "metadata": {
    "collapsed": false,
    "pycharm": {
     "name": "#%%\n"
    }
   }
  }
 ],
 "metadata": {
  "kernelspec": {
   "display_name": "Python 3",
   "language": "python",
   "name": "python3"
  },
  "language_info": {
   "codemirror_mode": {
    "name": "ipython",
    "version": 2
   },
   "file_extension": ".py",
   "mimetype": "text/x-python",
   "name": "python",
   "nbconvert_exporter": "python",
   "pygments_lexer": "ipython2",
   "version": "2.7.6"
  }
 },
 "nbformat": 4,
 "nbformat_minor": 0
}